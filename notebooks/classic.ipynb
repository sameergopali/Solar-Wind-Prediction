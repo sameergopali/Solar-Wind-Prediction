{
 "cells": [
  {
   "cell_type": "code",
   "execution_count": 29,
   "metadata": {},
   "outputs": [],
   "source": [
    "import pandas as pd\n",
    "import matplotlib.pyplot as plt\n",
    "import numpy as np\n",
    "from sklearn import datasets, ensemble\n",
    "from sklearn.inspection import permutation_importance\n",
    "from sklearn.metrics import mean_squared_error, r2_score, mean_absolute_error\n",
    "from sklearn.model_selection import train_test_split"
   ]
  },
  {
   "cell_type": "code",
   "execution_count": 5,
   "metadata": {},
   "outputs": [
    {
     "data": {
      "text/plain": [
       "((22300, 11), (22300,))"
      ]
     },
     "execution_count": 5,
     "metadata": {},
     "output_type": "execute_result"
    }
   ],
   "source": [
    "def get_dataset(pathX, pathY):\n",
    "    df_x =  pd.read_pickle(pathX).to_numpy()\n",
    "    df_y =  pd.read_pickle(pathY).to_numpy()\n",
    "    return df_x, df_y\n",
    "\n",
    "df_x, df_y  =  get_dataset('../data/processed/mean_ACE.pkl','../data/processed/ACE_Y_mean.pkl')\n"
   ]
  },
  {
   "cell_type": "code",
   "execution_count": 6,
   "metadata": {},
   "outputs": [],
   "source": [
    "X_train, X_test, y_train, y_test = train_test_split(\n",
    "    df_x, df_y, test_size=0.3, random_state=13\n",
    ")"
   ]
  },
  {
   "cell_type": "code",
   "execution_count": 26,
   "metadata": {},
   "outputs": [],
   "source": [
    "params = {\n",
    "    \"n_estimators\": 800,\n",
    "    \"max_depth\": 30,\n",
    "    \"min_samples_split\": 5,\n",
    "    \"learning_rate\": 0.01,\n",
    "    \"loss\": \"squared_error\",\n",
    "}"
   ]
  },
  {
   "cell_type": "code",
   "execution_count": 27,
   "metadata": {},
   "outputs": [
    {
     "data": {
      "text/plain": [
       "GradientBoostingRegressor(learning_rate=0.01, max_depth=30, min_samples_split=5,\n",
       "                          n_estimators=800)"
      ]
     },
     "execution_count": 27,
     "metadata": {},
     "output_type": "execute_result"
    }
   ],
   "source": [
    "reg = ensemble.GradientBoostingRegressor(**params)\n",
    "reg.fit(X_train, y_train)"
   ]
  },
  {
   "cell_type": "code",
   "execution_count": 30,
   "metadata": {},
   "outputs": [
    {
     "name": "stdout",
     "output_type": "stream",
     "text": [
      "The mean squared error (MSE) on test set: 1.7440\n",
      "R2 on test set: 0.9799\n",
      "MAE 0.5058871895109608\n",
      "adjusted R2 0.979886381418002\n"
     ]
    }
   ],
   "source": [
    "def adjusted_r2_score(y_true, y_pred, n_features):\n",
    "    r2 = r2_score(y_true, y_pred)\n",
    "    n_samples = len(y_true)\n",
    "    adjusted_r2 = 1 - (1 - r2) * (n_samples - 1) / (n_samples - n_features )\n",
    "    return adjusted_r2\n",
    "\n",
    "mse = mean_squared_error(y_test, reg.predict(X_test),squared=False)\n",
    "mae  = mean_absolute_error(y_test, reg.predict(X_test))\n",
    "r2 =  r2_score(y_test,reg.predict(X_test))\n",
    "adr2 =  adjusted_r2_score(y_test, reg.predict(X_test),11)\n",
    "print(\"The mean squared error (MSE) on test set: {:.4f}\".format(mse))\n",
    "print(\"R2 on test set: {:.4f}\".format(r2))\n",
    "print(\"MAE\",mae)\n",
    "print(\"adjusted R2\", adr2)"
   ]
  },
  {
   "cell_type": "code",
   "execution_count": null,
   "metadata": {},
   "outputs": [],
   "source": [
    "\n",
    "def test(net,test_loader,device,logger):\n",
    "    y_pred = []\n",
    "    y_true = []\n",
    "    net.train(False)\n",
    "    net.eval()\n",
    "    for inputs, targets in test_loader:\n",
    "        inputs, targets = inputs.to(device), targets\n",
    "        y_pred.extend(net(inputs).cpu().data.numpy())\n",
    "        y_true.extend(targets.numpy())\n",
    "\n",
    "    print(\"MAE:\", mean_absolute_error(y_true, y_pred))\n",
    "    print(\"RMSE:\", mean_squared_error(y_true, y_pred,squared=False))\n",
    "    print(\"R^2:\", r2_score(y_true, y_pred))\n"
   ]
  },
  {
   "cell_type": "code",
   "execution_count": 35,
   "metadata": {},
   "outputs": [
    {
     "data": {
      "text/plain": [
       "RandomForestRegressor(max_depth=25, n_estimators=800)"
      ]
     },
     "execution_count": 35,
     "metadata": {},
     "output_type": "execute_result"
    }
   ],
   "source": [
    "rf = ensemble.RandomForestRegressor(n_estimators=800,max_depth=25)\n",
    "rf.fit(X_train,y_train)"
   ]
  },
  {
   "cell_type": "code",
   "execution_count": 50,
   "metadata": {},
   "outputs": [
    {
     "name": "stdout",
     "output_type": "stream",
     "text": [
      "The mean squared error (MSE) on test set: 1.3101\n",
      "R2 on test set: 0.9887\n",
      "MAE 0.498198253335383\n",
      "adjusted R2 0.9886485157176017\n"
     ]
    }
   ],
   "source": [
    "def adjusted_r2_score(y_true, y_pred, n_features):\n",
    "    r2 = r2_score(y_true, y_pred)\n",
    "    n_samples = len(y_true)\n",
    "    adjusted_r2 = 1 - (1 - r2) * (n_samples - 1) / (n_samples - n_features )\n",
    "    return adjusted_r2\n",
    "\n",
    "mse = mean_squared_error(y_test, rf.predict(X_test),squared=False)\n",
    "mae  = mean_absolute_error(y_test, rf.predict(X_test))\n",
    "r2 =  r2_score(y_test,rf.predict(X_test))\n",
    "adr2 =  adjusted_r2_score(y_test, rf.predict(X_test),11)\n",
    "print(\"The mean squared error (MSE) on test set: {:.4f}\".format(mse))\n",
    "print(\"R2 on test set: {:.4f}\".format(r2))\n",
    "print(\"MAE\",mae)\n",
    "print(\"adjusted R2\", adr2)"
   ]
  },
  {
   "cell_type": "code",
   "execution_count": 49,
   "metadata": {},
   "outputs": [
    {
     "data": {
      "image/png": "[encoded data removed]",
      "text/plain": [
       "<Figure size 640x480 with 2 Axes>"
      ]
     },
     "metadata": {},
     "output_type": "display_data"
    }
   ],
   "source": [
    "sorted_idx = rf.feature_importances_.argsort()\n",
    "columns=['ACE_Bx','ACE_By','ACE_Bz','ACE_x','ACE_y','ACE_z','ACE_Vx','ACE_Temp','MMS_x','MMS_y','MMS_z']\n",
    "plt.subplot(1,2,1)\n",
    "plt.barh(np.array(columns)[sorted_idx.astype(int)], reg.feature_importances_[sorted_idx])\n",
    "plt.xlabel(\"Gradient Boosting Feature Importance\")\n",
    "plt.subplot(1,2,2)\n",
    "plt.barh(np.array(columns)[sorted_idx.astype(int)], rf.feature_importances_[sorted_idx])\n",
    "plt.xlabel(\"Random Forest Feature Importance\")\n",
    "plt.tight_layout()"
   ]
  },
  {
   "cell_type": "code",
   "execution_count": null,
   "metadata": {},
   "outputs": [],
   "source": []
  }
 ],
 "metadata": {
  "kernelspec": {
   "display_name": "base",
   "language": "python",
   "name": "python3"
  },
  "language_info": {
   "codemirror_mode": {
    "name": "ipython",
    "version": 3
   },
   "file_extension": ".py",
   "mimetype": "text/x-python",
   "name": "python",
   "nbconvert_exporter": "python",
   "pygments_lexer": "ipython3",
   "version": "3.8.16"
  },
  "orig_nbformat": 4
 },
 "nbformat": 4,
 "nbformat_minor": 2
}
