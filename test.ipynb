{
 "cells": [
  {
   "cell_type": "code",
   "execution_count": 1,
   "metadata": {},
   "outputs": [],
   "source": [
    "from models.mlp import MLP\n",
    "from dataloader import get_dataset, get_avg_dataloader\n",
    "import os\n",
    "import torch\n",
    "from sklearn.metrics import mean_absolute_error, mean_squared_error, r2_score"
   ]
  },
  {
   "cell_type": "code",
   "execution_count": 2,
   "metadata": {},
   "outputs": [],
   "source": [
    "dataX_path = os.path.join(os.path.join('data/processed/mean_ACE.pkl'))\n",
    "dataY_path = os.path.join(os.path.join('data/processed/ACE_Y_mean.pkl'))\n",
    "dataX, dataY = get_dataset(dataX_path,dataY_path)\n",
    "dataloaders = get_avg_dataloader(dataX,dataY, batchsize=128)\n",
    "\n",
    "args = {\n",
    "        'name':'Updated_data',\n",
    "        'trainer':{\n",
    "            'save_dir':'save',\n",
    "            'epochs': 2000,\n",
    "            'lr':10e-3\n",
    "        },\n",
    "        'model':{\n",
    "          'type':'MLP',\n",
    "          'input_size':11,\n",
    "          'output_size':1,\n",
    "          'hidden_layers':[1024,512,256,64],\n",
    "    \n",
    "        }\n",
    "    }\n"
   ]
  },
  {
   "cell_type": "code",
   "execution_count": 3,
   "metadata": {},
   "outputs": [
    {
     "data": {
      "text/plain": [
       "<All keys matched successfully>"
      ]
     },
     "execution_count": 3,
     "metadata": {},
     "output_type": "execute_result"
    }
   ],
   "source": [
    "model = MLP(input=11, output=1, hidden_layers=[1024,512,256,64]).to('cuda')\n",
    "state = torch.load('save/model/Updated_data/mlp/model.best.pth')\n",
    "model.load_state_dict(state['state_dict'])"
   ]
  },
  {
   "cell_type": "code",
   "execution_count": 4,
   "metadata": {},
   "outputs": [],
   "source": [
    "def adjusted_r2_score(y_true, y_pred, n_features):\n",
    "    r2 = r2_score(y_true, y_pred)\n",
    "    n_samples = len(y_true)\n",
    "    adjusted_r2 = 1 - (1 - r2) * (n_samples - 1) / (n_samples - n_features )\n",
    "    return adjusted_r2\n",
    "def test(net,test_loader,device):\n",
    "    y_pred = []\n",
    "    y_true = []\n",
    "    net.train(False)\n",
    "    net.eval()\n",
    "    for inputs, targets in test_loader:\n",
    "        inputs, targets = inputs.to(device), targets\n",
    "        y_pred.extend(net(inputs).cpu().data.numpy())\n",
    "        y_true.extend(targets.numpy())\n",
    "\n",
    "    print(\"MAE:\", mean_absolute_error(y_true, y_pred))\n",
    "    print(\"RMSE:\", mean_squared_error(y_true, y_pred,squared=False))\n",
    "    print(\"R^2:\", r2_score(y_true, y_pred))\n",
    "    print('adjusted r2',adjusted_r2_score(y_true, y_pred, 11))"
   ]
  },
  {
   "cell_type": "code",
   "execution_count": 5,
   "metadata": {},
   "outputs": [
    {
     "name": "stdout",
     "output_type": "stream",
     "text": [
      "MAE: 1.0946486\n",
      "RMSE: 2.2452648\n",
      "R^2: 0.9669360818114536\n",
      "adjusted r2 0.9668865775171154\n"
     ]
    }
   ],
   "source": [
    "test(model, dataloaders['test_loader'],device='cuda')"
   ]
  },
  {
   "cell_type": "code",
   "execution_count": 7,
   "metadata": {},
   "outputs": [
    {
     "data": {
      "text/plain": [
       "(4.833022814850475, 4.196104887369517)"
      ]
     },
     "execution_count": 7,
     "metadata": {},
     "output_type": "execute_result"
    }
   ],
   "source": [
    "min(state['training_losses']),min(state['validation_losses'])"
   ]
  },
  {
   "cell_type": "code",
   "execution_count": null,
   "metadata": {},
   "outputs": [],
   "source": []
  }
 ],
 "metadata": {
  "kernelspec": {
   "display_name": "base",
   "language": "python",
   "name": "python3"
  },
  "language_info": {
   "codemirror_mode": {
    "name": "ipython",
    "version": 3
   },
   "file_extension": ".py",
   "mimetype": "text/x-python",
   "name": "python",
   "nbconvert_exporter": "python",
   "pygments_lexer": "ipython3",
   "version": "3.8.16"
  },
  "orig_nbformat": 4
 },
 "nbformat": 4,
 "nbformat_minor": 2
}
